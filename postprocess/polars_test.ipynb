{
 "cells": [
  {
   "cell_type": "code",
   "execution_count": 1,
   "metadata": {},
   "outputs": [],
   "source": [
    "import polars as pl\n",
    "import numpy as np"
   ]
  },
  {
   "cell_type": "code",
   "execution_count": 2,
   "metadata": {},
   "outputs": [],
   "source": [
    "epsilon     = 1.0  \n",
    "sigma       = 1.0  \n",
    "cutoff      = 2.5 * sigma "
   ]
  },
  {
   "cell_type": "code",
   "execution_count": 8,
   "metadata": {},
   "outputs": [],
   "source": [
    "label = 'T0.71_N7_RHO1'\n",
    "positions_data = pl.read_csv(f'../output_files/{label}/{label}_positions_data.txt', separator=' ', new_columns=['particle', 'time', 'x', 'y', 'z'])"
   ]
  },
  {
   "cell_type": "code",
   "execution_count": 11,
   "metadata": {},
   "outputs": [],
   "source": [
    "L = 11.1118"
   ]
  },
  {
   "cell_type": "code",
   "execution_count": 12,
   "metadata": {},
   "outputs": [
    {
     "ename": "KeyboardInterrupt",
     "evalue": "",
     "output_type": "error",
     "traceback": [
      "\u001b[0;31m---------------------------------------------------------------------------\u001b[0m",
      "\u001b[0;31mKeyboardInterrupt\u001b[0m                         Traceback (most recent call last)",
      "\u001b[1;32m/home/deo/Documents/projects/md_lennard_jones_cuda/postprocess/polars_test.ipynb Cell 5\u001b[0m line \u001b[0;36m1\n\u001b[1;32m     <a href='vscode-notebook-cell:/home/deo/Documents/projects/md_lennard_jones_cuda/postprocess/polars_test.ipynb#W3sZmlsZQ%3D%3D?line=13'>14</a>\u001b[0m dz \u001b[39m=\u001b[39m positions[i, \u001b[39m2\u001b[39m] \u001b[39m-\u001b[39m positions[j, \u001b[39m2\u001b[39m]\n\u001b[1;32m     <a href='vscode-notebook-cell:/home/deo/Documents/projects/md_lennard_jones_cuda/postprocess/polars_test.ipynb#W3sZmlsZQ%3D%3D?line=14'>15</a>\u001b[0m \u001b[39m# Apply periodic boundary conditions (assuming cubic box with length 'L')\u001b[39;00m\n\u001b[0;32m---> <a href='vscode-notebook-cell:/home/deo/Documents/projects/md_lennard_jones_cuda/postprocess/polars_test.ipynb#W3sZmlsZQ%3D%3D?line=15'>16</a>\u001b[0m dx \u001b[39m-\u001b[39m\u001b[39m=\u001b[39m L \u001b[39m*\u001b[39m np\u001b[39m.\u001b[39;49mround(dx \u001b[39m/\u001b[39;49m L)\n\u001b[1;32m     <a href='vscode-notebook-cell:/home/deo/Documents/projects/md_lennard_jones_cuda/postprocess/polars_test.ipynb#W3sZmlsZQ%3D%3D?line=16'>17</a>\u001b[0m dy \u001b[39m-\u001b[39m\u001b[39m=\u001b[39m L \u001b[39m*\u001b[39m np\u001b[39m.\u001b[39mround(dy \u001b[39m/\u001b[39m L)\n\u001b[1;32m     <a href='vscode-notebook-cell:/home/deo/Documents/projects/md_lennard_jones_cuda/postprocess/polars_test.ipynb#W3sZmlsZQ%3D%3D?line=17'>18</a>\u001b[0m dz \u001b[39m-\u001b[39m\u001b[39m=\u001b[39m L \u001b[39m*\u001b[39m np\u001b[39m.\u001b[39mround(dz \u001b[39m/\u001b[39m L)\n",
      "File \u001b[0;32m~/miniforge3/lib/python3.10/site-packages/numpy/core/fromnumeric.py:3360\u001b[0m, in \u001b[0;36mround\u001b[0;34m(a, decimals, out)\u001b[0m\n\u001b[1;32m   3269\u001b[0m \u001b[39m@array_function_dispatch\u001b[39m(_round_dispatcher)\n\u001b[1;32m   3270\u001b[0m \u001b[39mdef\u001b[39;00m \u001b[39mround\u001b[39m(a, decimals\u001b[39m=\u001b[39m\u001b[39m0\u001b[39m, out\u001b[39m=\u001b[39m\u001b[39mNone\u001b[39;00m):\n\u001b[1;32m   3271\u001b[0m \u001b[39m    \u001b[39m\u001b[39m\"\"\"\u001b[39;00m\n\u001b[1;32m   3272\u001b[0m \u001b[39m    Evenly round to the given number of decimals.\u001b[39;00m\n\u001b[1;32m   3273\u001b[0m \n\u001b[0;32m   (...)\u001b[0m\n\u001b[1;32m   3358\u001b[0m \n\u001b[1;32m   3359\u001b[0m \u001b[39m    \"\"\"\u001b[39;00m\n\u001b[0;32m-> 3360\u001b[0m     \u001b[39mreturn\u001b[39;00m _wrapfunc(a, \u001b[39m'\u001b[39;49m\u001b[39mround\u001b[39;49m\u001b[39m'\u001b[39;49m, decimals\u001b[39m=\u001b[39;49mdecimals, out\u001b[39m=\u001b[39;49mout)\n",
      "File \u001b[0;32m~/miniforge3/lib/python3.10/site-packages/numpy/core/fromnumeric.py:59\u001b[0m, in \u001b[0;36m_wrapfunc\u001b[0;34m(obj, method, *args, **kwds)\u001b[0m\n\u001b[1;32m     56\u001b[0m     \u001b[39mreturn\u001b[39;00m _wrapit(obj, method, \u001b[39m*\u001b[39margs, \u001b[39m*\u001b[39m\u001b[39m*\u001b[39mkwds)\n\u001b[1;32m     58\u001b[0m \u001b[39mtry\u001b[39;00m:\n\u001b[0;32m---> 59\u001b[0m     \u001b[39mreturn\u001b[39;00m bound(\u001b[39m*\u001b[39;49margs, \u001b[39m*\u001b[39;49m\u001b[39m*\u001b[39;49mkwds)\n\u001b[1;32m     60\u001b[0m \u001b[39mexcept\u001b[39;00m \u001b[39mTypeError\u001b[39;00m:\n\u001b[1;32m     61\u001b[0m     \u001b[39m# A TypeError occurs if the object does have such a method in its\u001b[39;00m\n\u001b[1;32m     62\u001b[0m     \u001b[39m# class, but its signature is not identical to that of NumPy's. This\u001b[39;00m\n\u001b[0;32m   (...)\u001b[0m\n\u001b[1;32m     66\u001b[0m     \u001b[39m# Call _wrapit from within the except clause to ensure a potential\u001b[39;00m\n\u001b[1;32m     67\u001b[0m     \u001b[39m# exception has a traceback chain.\u001b[39;00m\n\u001b[1;32m     68\u001b[0m     \u001b[39mreturn\u001b[39;00m _wrapit(obj, method, \u001b[39m*\u001b[39margs, \u001b[39m*\u001b[39m\u001b[39m*\u001b[39mkwds)\n",
      "\u001b[0;31mKeyboardInterrupt\u001b[0m: "
     ]
    }
   ],
   "source": [
    "# Polars DataFrame to NumPy array for computation\n",
    "positions = positions_data.select(['x', 'y', 'z']).to_numpy()\n",
    "\n",
    "# NumPy array to store forces\n",
    "forces = np.zeros_like(positions)\n",
    "\n",
    "# Compute forces using NumPy\n",
    "N = len(positions)  # Number of particles\n",
    "for i in range(N):\n",
    "    for j in range(i+1, N):\n",
    "        # Compute distance accounting for periodic boundary conditions\n",
    "        dx = positions[i, 0] - positions[j, 0]\n",
    "        dy = positions[i, 1] - positions[j, 1]\n",
    "        dz = positions[i, 2] - positions[j, 2]\n",
    "        # Apply periodic boundary conditions (assuming cubic box with length 'L')\n",
    "        dx -= L * np.round(dx / L)\n",
    "        dy -= L * np.round(dy / L)\n",
    "        dz -= L * np.round(dz / L)\n",
    "        r = np.sqrt(dx**2 + dy**2 + dz**2)\n",
    "\n",
    "        # Compute force if within cutoff distance\n",
    "        if r < cutoff:\n",
    "            # Lennard-Jones force calculation\n",
    "            r6 = (sigma / r)**6\n",
    "            r12 = r6**2\n",
    "            force_magnitude = 24 * epsilon * (2 * r12 - r6) / r\n",
    "            forces[i, 0] += force_magnitude * dx\n",
    "            forces[i, 1] += force_magnitude * dy\n",
    "            forces[i, 2] += force_magnitude * dz\n",
    "            forces[j, 0] -= force_magnitude * dx  # Newton's third law\n",
    "            forces[j, 1] -= force_magnitude * dy\n",
    "            forces[j, 2] -= force_magnitude * dz\n",
    "\n",
    "# Convert forces back to Polars DataFrame if needed\n",
    "forces_df = pl.DataFrame(forces, columns=['forceX', 'forceY', 'forceZ'])\n",
    "\n",
    "print(forces_df)"
   ]
  },
  {
   "cell_type": "code",
   "execution_count": null,
   "metadata": {},
   "outputs": [],
   "source": []
  }
 ],
 "metadata": {
  "kernelspec": {
   "display_name": "base",
   "language": "python",
   "name": "python3"
  },
  "language_info": {
   "codemirror_mode": {
    "name": "ipython",
    "version": 3
   },
   "file_extension": ".py",
   "mimetype": "text/x-python",
   "name": "python",
   "nbconvert_exporter": "python",
   "pygments_lexer": "ipython3",
   "version": "3.10.13"
  }
 },
 "nbformat": 4,
 "nbformat_minor": 2
}
