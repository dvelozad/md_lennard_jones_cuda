{
 "cells": [
  {
   "cell_type": "code",
   "execution_count": 1,
   "metadata": {},
   "outputs": [],
   "source": [
    "import pyvista as pv\n",
    "import pandas as pd\n",
    "import numpy as np"
   ]
  },
  {
   "cell_type": "code",
   "execution_count": 2,
   "metadata": {},
   "outputs": [],
   "source": [
    "label = 'T0.71_N4_RHO0.844'"
   ]
  },
  {
   "cell_type": "code",
   "execution_count": 10,
   "metadata": {},
   "outputs": [],
   "source": [
    "# Load data\n",
    "data = pd.read_csv(f'../output_files/{label}_positions_data.txt', sep=' ', names=['particle', 'time', 'x', 'y', 'z'])\n",
    "energy_data = pd.read_csv(f'../output_files/{label}_energy_data.txt', sep=' ', names=['time', 'K', 'V'])\n",
    "temperature_data = pd.read_csv(f'../output_files/{label}_temperature_data.txt', sep=' ', names=['time', 'temperature'])\n",
    "\n",
    "# Determine unique particles\n",
    "unique_particles = data['particle'].unique()\n",
    "\n",
    "# Assign a random radius and color to each particle\n",
    "radius_dict = {particle: np.random.uniform(1, 5) for particle in unique_particles}  \n",
    "color_dict = {particle: np.random.choice(['red', 'green', 'blue', 'purple']) for particle in unique_particles}\n",
    "\n",
    "# Assign a color to each particle (assuming color_dict is defined)\n",
    "data['color'] = data['particle'].map(color_dict)"
   ]
  },
  {
   "cell_type": "code",
   "execution_count": 13,
   "metadata": {},
   "outputs": [],
   "source": [
    "# Create a PyVista plotter object\n",
    "plotter = pv.Plotter()\n",
    "plotter.open_gif(f'../output_files/{label}_particle_motion_3D.gif')\n",
    "\n",
    "\n",
    "# Define update function for the animation\n",
    "def update_plotter(frame, plotter, data):\n",
    "    plotter.clear()\n",
    "    current_data = data[data['time'] == frame]\n",
    "    points = current_data[['x', 'y', 'z']].values\n",
    "    plotter.add_points(points, color='white', point_size=5)\n",
    "    plotter.render()\n"
   ]
  },
  {
   "cell_type": "code",
   "execution_count": 14,
   "metadata": {},
   "outputs": [],
   "source": [
    "# Loop through each frame to update the plot and save to the GIF\n",
    "for frame in data['time'].unique():\n",
    "    update_plotter(frame, plotter, data)\n",
    "    plotter.write_frame()  # Write each frame to the GIF\n",
    "\n",
    "# Close the plotter\n",
    "plotter.close()"
   ]
  }
 ],
 "metadata": {
  "kernelspec": {
   "display_name": "base",
   "language": "python",
   "name": "python3"
  },
  "language_info": {
   "codemirror_mode": {
    "name": "ipython",
    "version": 3
   },
   "file_extension": ".py",
   "mimetype": "text/x-python",
   "name": "python",
   "nbconvert_exporter": "python",
   "pygments_lexer": "ipython3",
   "version": "3.10.13"
  }
 },
 "nbformat": 4,
 "nbformat_minor": 2
}
