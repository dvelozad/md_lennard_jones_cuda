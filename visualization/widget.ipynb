{
 "cells": [
  {
   "cell_type": "code",
   "execution_count": 2,
   "metadata": {},
   "outputs": [],
   "source": [
    "import py3Dmol\n",
    "import pandas as pd\n",
    "import ipywidgets as widgets\n",
    "from IPython.display import display"
   ]
  },
  {
   "cell_type": "code",
   "execution_count": 2,
   "metadata": {},
   "outputs": [],
   "source": [
    "# Replace 'your_data_file.csv' with the path to your data file\n",
    "data = pd.read_csv('../output_files/positions_data.txt', sep=' ', names=['particle', 'time', 'x', 'y'])\n",
    "# Add a Z-coordinate\n",
    "data['z'] = 0.0\n",
    "\n",
    "data['time'] = (data['time']/70).astype(int)"
   ]
  },
  {
   "cell_type": "code",
   "execution_count": 3,
   "metadata": {},
   "outputs": [],
   "source": [
    "# Pre-render frames for each time step\n",
    "frames = {}\n",
    "for time_step in data['time'].unique():\n",
    "    frame_data = data[data['time'] == time_step]\n",
    "    view = py3Dmol.view(width=800, height=400)\n",
    "    for _, atom in frame_data.iterrows():\n",
    "        view.addSphere({'center': {'x': atom['x'], 'y': atom['y'], 'z': atom['z']},\n",
    "                        'radius': 1.0, 'color': 'blue'})\n",
    "    view.zoomTo()\n",
    "    frames[time_step] = view\n",
    "\n",
    "# Function to display a frame for a given time step\n",
    "def display_frame(time_step):\n",
    "    return frames[time_step].show()"
   ]
  },
  {
   "cell_type": "code",
   "execution_count": 6,
   "metadata": {},
   "outputs": [
    {
     "data": {
      "application/vnd.jupyter.widget-view+json": {
       "model_id": "c27ec01f9fbc476bbe2af79e1495ffcb",
       "version_major": 2,
       "version_minor": 0
      },
      "text/plain": [
       "HBox(children=(Play(value=0, description='Press play', max=148), IntSlider(value=0, description='Time Step:', …"
      ]
     },
     "metadata": {},
     "output_type": "display_data"
    },
    {
     "data": {
      "application/vnd.jupyter.widget-view+json": {
       "model_id": "d51c6901e02544b0b5d2b8bf52bbd9ae",
       "version_major": 2,
       "version_minor": 0
      },
      "text/plain": [
       "Output()"
      ]
     },
     "metadata": {},
     "output_type": "display_data"
    }
   ],
   "source": [
    "# Create a play widget\n",
    "play = widgets.Play(\n",
    "    value=0,\n",
    "    min=data['time'].min(),\n",
    "    max=data['time'].max(),\n",
    "    step=1,\n",
    "    interval=100,  # Change time in milliseconds\n",
    "    description=\"Press play\",\n",
    ")\n",
    "\n",
    "# Create a slider widget for time steps\n",
    "time_slider = widgets.IntSlider(\n",
    "    value=0,\n",
    "    min=data['time'].min(),\n",
    "    max=data['time'].max(),\n",
    "    step=1,\n",
    "    description='Time Step:',\n",
    ")\n",
    "\n",
    "# Link the play and slider widgets\n",
    "widgets.jslink((play, 'value'), (time_slider, 'value'))\n",
    "\n",
    "# Create a widget container\n",
    "widget_container = widgets.HBox([play, time_slider])\n",
    "\n",
    "# Update the visualization when the slider value changes\n",
    "interactive_view = widgets.interactive_output(display_frame, {'time_step': time_slider})\n",
    "\n",
    "# Display everything\n",
    "display(widget_container, interactive_view)"
   ]
  },
  {
   "cell_type": "code",
   "execution_count": 3,
   "metadata": {},
   "outputs": [
    {
     "data": {
      "text/html": [
       "<div>\n",
       "<style scoped>\n",
       "    .dataframe tbody tr th:only-of-type {\n",
       "        vertical-align: middle;\n",
       "    }\n",
       "\n",
       "    .dataframe tbody tr th {\n",
       "        vertical-align: top;\n",
       "    }\n",
       "\n",
       "    .dataframe thead th {\n",
       "        text-align: right;\n",
       "    }\n",
       "</style>\n",
       "<table border=\"1\" class=\"dataframe\">\n",
       "  <thead>\n",
       "    <tr style=\"text-align: right;\">\n",
       "      <th></th>\n",
       "      <th>particle</th>\n",
       "      <th>time</th>\n",
       "      <th>x</th>\n",
       "      <th>y</th>\n",
       "      <th>z</th>\n",
       "    </tr>\n",
       "  </thead>\n",
       "  <tbody>\n",
       "    <tr>\n",
       "      <th>0</th>\n",
       "      <td>0</td>\n",
       "      <td>0</td>\n",
       "      <td>14.2857</td>\n",
       "      <td>14.28570</td>\n",
       "      <td>0.0</td>\n",
       "    </tr>\n",
       "    <tr>\n",
       "      <th>1</th>\n",
       "      <td>1</td>\n",
       "      <td>0</td>\n",
       "      <td>28.5714</td>\n",
       "      <td>14.28570</td>\n",
       "      <td>0.0</td>\n",
       "    </tr>\n",
       "    <tr>\n",
       "      <th>2</th>\n",
       "      <td>2</td>\n",
       "      <td>0</td>\n",
       "      <td>42.8571</td>\n",
       "      <td>14.28570</td>\n",
       "      <td>0.0</td>\n",
       "    </tr>\n",
       "    <tr>\n",
       "      <th>3</th>\n",
       "      <td>3</td>\n",
       "      <td>0</td>\n",
       "      <td>57.1429</td>\n",
       "      <td>14.28570</td>\n",
       "      <td>0.0</td>\n",
       "    </tr>\n",
       "    <tr>\n",
       "      <th>4</th>\n",
       "      <td>4</td>\n",
       "      <td>0</td>\n",
       "      <td>71.4286</td>\n",
       "      <td>14.28570</td>\n",
       "      <td>0.0</td>\n",
       "    </tr>\n",
       "    <tr>\n",
       "      <th>...</th>\n",
       "      <td>...</td>\n",
       "      <td>...</td>\n",
       "      <td>...</td>\n",
       "      <td>...</td>\n",
       "      <td>...</td>\n",
       "    </tr>\n",
       "    <tr>\n",
       "      <th>8023</th>\n",
       "      <td>31</td>\n",
       "      <td>222</td>\n",
       "      <td>19.2803</td>\n",
       "      <td>73.25770</td>\n",
       "      <td>0.0</td>\n",
       "    </tr>\n",
       "    <tr>\n",
       "      <th>8024</th>\n",
       "      <td>32</td>\n",
       "      <td>222</td>\n",
       "      <td>42.9600</td>\n",
       "      <td>1.31923</td>\n",
       "      <td>0.0</td>\n",
       "    </tr>\n",
       "    <tr>\n",
       "      <th>8025</th>\n",
       "      <td>33</td>\n",
       "      <td>222</td>\n",
       "      <td>59.7848</td>\n",
       "      <td>1.02806</td>\n",
       "      <td>0.0</td>\n",
       "    </tr>\n",
       "    <tr>\n",
       "      <th>8026</th>\n",
       "      <td>34</td>\n",
       "      <td>222</td>\n",
       "      <td>77.9835</td>\n",
       "      <td>1.23034</td>\n",
       "      <td>0.0</td>\n",
       "    </tr>\n",
       "    <tr>\n",
       "      <th>8027</th>\n",
       "      <td>35</td>\n",
       "      <td>222</td>\n",
       "      <td>72.1637</td>\n",
       "      <td>80.29700</td>\n",
       "      <td>0.0</td>\n",
       "    </tr>\n",
       "  </tbody>\n",
       "</table>\n",
       "<p>8028 rows × 5 columns</p>\n",
       "</div>"
      ],
      "text/plain": [
       "      particle  time        x         y    z\n",
       "0            0     0  14.2857  14.28570  0.0\n",
       "1            1     0  28.5714  14.28570  0.0\n",
       "2            2     0  42.8571  14.28570  0.0\n",
       "3            3     0  57.1429  14.28570  0.0\n",
       "4            4     0  71.4286  14.28570  0.0\n",
       "...        ...   ...      ...       ...  ...\n",
       "8023        31   222  19.2803  73.25770  0.0\n",
       "8024        32   222  42.9600   1.31923  0.0\n",
       "8025        33   222  59.7848   1.02806  0.0\n",
       "8026        34   222  77.9835   1.23034  0.0\n",
       "8027        35   222  72.1637  80.29700  0.0\n",
       "\n",
       "[8028 rows x 5 columns]"
      ]
     },
     "execution_count": 3,
     "metadata": {},
     "output_type": "execute_result"
    }
   ],
   "source": [
    "data"
   ]
  },
  {
   "cell_type": "markdown",
   "metadata": {},
   "source": [
    "# Energy"
   ]
  },
  {
   "cell_type": "code",
   "execution_count": 6,
   "metadata": {},
   "outputs": [],
   "source": [
    "import matplotlib.pyplot as plt"
   ]
  },
  {
   "cell_type": "code",
   "execution_count": 3,
   "metadata": {},
   "outputs": [],
   "source": [
    "energy_data = pd.read_csv('../output_files/energy_data.txt', sep=' ', names=['time', 'energy'])\n"
   ]
  },
  {
   "cell_type": "code",
   "execution_count": 7,
   "metadata": {},
   "outputs": [
    {
     "data": {
      "text/plain": [
       "[<matplotlib.lines.Line2D at 0x7f5b9287feb0>]"
      ]
     },
     "execution_count": 7,
     "metadata": {},
     "output_type": "execute_result"
    },
    {
     "data": {
      "image/png": "[encoded data removed]",
      "text/plain": [
       "<Figure size 640x480 with 1 Axes>"
      ]
     },
     "metadata": {},
     "output_type": "display_data"
    }
   ],
   "source": [
    "plt.plot(energy_data.time, energy_data.energy)"
   ]
  }
 ],
 "metadata": {
  "kernelspec": {
   "display_name": "base",
   "language": "python",
   "name": "python3"
  },
  "language_info": {
   "codemirror_mode": {
    "name": "ipython",
    "version": 3
   },
   "file_extension": ".py",
   "mimetype": "text/x-python",
   "name": "python",
   "nbconvert_exporter": "python",
   "pygments_lexer": "ipython3",
   "version": "3.10.12"
  }
 },
 "nbformat": 4,
 "nbformat_minor": 2
}
